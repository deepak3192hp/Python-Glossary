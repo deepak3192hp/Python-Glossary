{
 "cells": [
  {
   "cell_type": "code",
   "execution_count": 22,
   "id": "1bb20afe",
   "metadata": {},
   "outputs": [],
   "source": [
    "text='''boleh di kirim ke email saya ekoprasetyo.crb@outlook.com tks... boleh minta kirim ke db.maulana@gmail.com. dee.wien@yahoo.com. . \n",
    "deninainggolan@yahoo.co.id Senior Quantity Surveyor\n",
    "Fajar.rohita@hotmail.com, terimakasih bu Cindy Hartanto\n",
    "firmansyah1404@gmail.com saya mau dong bu cindy\n",
    "fransiscajw@gmail.com \n",
    "Hi Cindy ...pls share the Salary guide to donny_tri_wardono@yahoo.co.id thank a`; '''"
   ]
  },
  {
   "cell_type": "code",
   "execution_count": 18,
   "id": "e253dc32",
   "metadata": {},
   "outputs": [],
   "source": [
    "import re"
   ]
  },
  {
   "cell_type": "code",
   "execution_count": 19,
   "id": "f185abf4",
   "metadata": {},
   "outputs": [],
   "source": [
    "pattern=\"[a-zA-Z0-9._-]+@[a-zA-Z0-9._-]+\\.[a-zA-Z0-9_-]\""
   ]
  },
  {
   "cell_type": "code",
   "execution_count": 23,
   "id": "c7a4e28a",
   "metadata": {},
   "outputs": [
    {
     "name": "stdout",
     "output_type": "stream",
     "text": [
      "['ekoprasetyo.crb@outlook.c', 'db.maulana@gmail.c', 'dee.wien@yahoo.c', 'deninainggolan@yahoo.co.i', 'Fajar.rohita@hotmail.c', 'firmansyah1404@gmail.c', 'fransiscajw@gmail.c', 'donny_tri_wardono@yahoo.co.i']\n"
     ]
    }
   ],
   "source": [
    "emails=re.findall(pattern,text)\n",
    "print(emails)"
   ]
  },
  {
   "cell_type": "code",
   "execution_count": 24,
   "id": "a75dfe60",
   "metadata": {},
   "outputs": [
    {
     "name": "stdout",
     "output_type": "stream",
     "text": [
      "ekoprasetyo.crb@outlook.c\n",
      "db.maulana@gmail.c\n",
      "dee.wien@yahoo.c\n",
      "deninainggolan@yahoo.co.i\n",
      "Fajar.rohita@hotmail.c\n",
      "firmansyah1404@gmail.c\n",
      "fransiscajw@gmail.c\n",
      "donny_tri_wardono@yahoo.co.i\n"
     ]
    }
   ],
   "source": [
    "for email in emails:\n",
    "    print(email)"
   ]
  }
 ],
 "metadata": {
  "kernelspec": {
   "display_name": "base",
   "language": "python",
   "name": "python3"
  },
  "language_info": {
   "codemirror_mode": {
    "name": "ipython",
    "version": 3
   },
   "file_extension": ".py",
   "mimetype": "text/x-python",
   "name": "python",
   "nbconvert_exporter": "python",
   "pygments_lexer": "ipython3",
   "version": "3.13.5"
  }
 },
 "nbformat": 4,
 "nbformat_minor": 5
}
